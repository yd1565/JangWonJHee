{
  "nbformat": 4,
  "nbformat_minor": 0,
  "metadata": {
    "colab": {
      "name": "장원희 - 두_번째_과제.ipynb",
      "provenance": [],
      "collapsed_sections": [],
      "include_colab_link": true
    },
    "kernelspec": {
      "name": "python3",
      "display_name": "Python 3"
    }
  },
  "cells": [
    {
      "cell_type": "markdown",
      "metadata": {
        "id": "view-in-github",
        "colab_type": "text"
      },
      "source": [
        "<a href=\"https://colab.research.google.com/github/yd1565/JangWonJHee/blob/master/%EC%9E%A5%EC%9B%90%ED%9D%AC_%EB%91%90_%EB%B2%88%EC%A7%B8_%EA%B3%BC%EC%A0%9C.ipynb\" target=\"_parent\"><img src=\"https://colab.research.google.com/assets/colab-badge.svg\" alt=\"Open In Colab\"/></a>"
      ]
    },
    {
      "cell_type": "markdown",
      "metadata": {
        "id": "7dtqijwFixcS"
      },
      "source": [
        "## **00 과제 제출 예시**\n",
        "아래와 같이 출력 결과와 동일한 출력을 해주시면 됩니다.\n"
      ]
    },
    {
      "cell_type": "code",
      "metadata": {
        "colab": {
          "base_uri": "https://localhost:8080/"
        },
        "id": "NPE95M3cix31",
        "outputId": "4464f57b-615c-413e-a8c0-d87a51adec56"
      },
      "source": [
        "# 출력 결과 : 광주 인공지능사관학교\n",
        "print(\"광주 인공지능사관학교\")"
      ],
      "execution_count": null,
      "outputs": [
        {
          "output_type": "stream",
          "text": [
            "광주 인공지능사관학교\n"
          ],
          "name": "stdout"
        }
      ]
    },
    {
      "cell_type": "markdown",
      "metadata": {
        "id": "2cANP4VyQucb"
      },
      "source": [
        "## **01 딕셔너리 쌍 추가하기**\n",
        "아래의 dict_ai에 'phone number'를 key로 하고 cell_phone 변수에 담긴 값을 value로 하는 딕셔너리 쌍을 추가하는 코드를 작성한 후 출력 결과와 동일한 출력을 해주세요."
      ]
    },
    {
      "cell_type": "code",
      "metadata": {
        "id": "fCbQOif9Qu8B",
        "colab": {
          "base_uri": "https://localhost:8080/"
        },
        "outputId": "fdbb1e8f-cb73-436e-eea0-809173a697ba"
      },
      "source": [
        "# 주어진 변수(dict_ai, cell_phone) 및 print(dict_ai) 직접 수정 불가\n",
        "# 출력 결과 : {'name': '홍길동', 'age': 24, 'phone number': '010-1234-1234'}\n",
        "\n",
        "dict_ai = {'name' : '홍길동', 'age' : 24}\n",
        "cell_phone = '010-1234-1234'\n",
        "\n",
        "\n",
        "print(dict_ai)"
      ],
      "execution_count": null,
      "outputs": [
        {
          "output_type": "stream",
          "text": [
            "{'name': '홍길동', 'age': 24}\n"
          ],
          "name": "stdout"
        }
      ]
    },
    {
      "cell_type": "markdown",
      "metadata": {
        "id": "85D1qoLBS1Pr"
      },
      "source": [
        "## **02 딕셔너리 쌍 삭제하기**\n",
        "아래의 dict_ai에 'address'의 key와 value를 삭제하는 코드를 작성한 후 출력 결과와 동일한 출력을 해주세요."
      ]
    },
    {
      "cell_type": "code",
      "metadata": {
        "id": "RsDLJqWWS12F",
        "colab": {
          "base_uri": "https://localhost:8080/"
        },
        "outputId": "361b35e9-ebd8-4e37-a9d1-bed3b1f2c4e5"
      },
      "source": [
        "# 주어진 변수(dict_ai) 및 print(dict_ai) 직접 수정 불가\n",
        "# 출력 결과 : {'name': '홍길동', 'age': 24}\n",
        "\n",
        "dict_ai = {'name' : '홍길동', 'age' : 24, 'address' : 'ㄱㅈ'}\n",
        "\n",
        "del dict_ai['address']\n",
        "\n",
        "print(dict_ai)"
      ],
      "execution_count": null,
      "outputs": [
        {
          "output_type": "stream",
          "text": [
            "{'name': '홍길동', 'age': 24}\n"
          ],
          "name": "stdout"
        }
      ]
    },
    {
      "cell_type": "markdown",
      "metadata": {
        "id": "8hqtILnKZEOa"
      },
      "source": [
        "## **03 딕셔너리 key값을 활용한 value값 변경하기**\n",
        "아래의 ai_student 'name'의 value 값인 '홍길동'을 '세종대왕'으로 변경하는 코드를 작성한 후 출력 결과와 동일한 출력을 해주세요."
      ]
    },
    {
      "cell_type": "code",
      "metadata": {
        "id": "eJPnFskxZE7w",
        "colab": {
          "base_uri": "https://localhost:8080/"
        },
        "outputId": "e6c2748f-e6d5-412e-e8f2-2a65191d6762"
      },
      "source": [
        "# 주어진 변수(ai_student) 및 print(ai_student) 직접 수정 불가\n",
        "# 출력 결과 : {'name': '세종대왕', 'age': 24, 'phone number': '010-1234-1234'}\n",
        "\n",
        "ai_student = {'name' : '홍길동', 'age' : 24, 'phone number' : '010-1234-1234'}\n",
        "\n",
        "ai_student['name'] = '세종대왕'\n",
        "\n",
        "print(ai_student)"
      ],
      "execution_count": null,
      "outputs": [
        {
          "output_type": "stream",
          "text": [
            "{'name': '세종대왕', 'age': 24, 'phone number': '010-1234-1234'}\n"
          ],
          "name": "stdout"
        }
      ]
    },
    {
      "cell_type": "markdown",
      "metadata": {
        "id": "4m-BQm0ULwof"
      },
      "source": [
        "## **04 조건문(1)**\n",
        "조건문을 활용하여 money가 True일 경우 '택시를 타고 가자!'를 출력하고 True가 아닌 경우 '걸어서 가자!'를 출력하는 코드를 작성하여 '택시를 타고 가자!'를 출력해 주세요."
      ]
    },
    {
      "cell_type": "code",
      "metadata": {
        "id": "NT-SOIAMLqD-",
        "colab": {
          "base_uri": "https://localhost:8080/"
        },
        "outputId": "1ab45eb5-3b50-4ebf-e6c4-c87da3333dd8"
      },
      "source": [
        "# 주어진 변수(money) 직접 수정 불가\n",
        "# 출력 결과 : 택시를 타고 가자!\n",
        "\n",
        "money = True\n",
        "\n",
        "if money == True:\n",
        "  print('택시를 타고 가자!')\n",
        "else:\n",
        "  print('걸어서 가자!')"
      ],
      "execution_count": null,
      "outputs": [
        {
          "output_type": "stream",
          "text": [
            "택시를 타고 가자!\n"
          ],
          "name": "stdout"
        }
      ]
    },
    {
      "cell_type": "markdown",
      "metadata": {
        "id": "g6OjDXZHNsOl"
      },
      "source": [
        "## **05 조건문(2)**\n",
        "조건문을 활용하여 money가 5000원 이상일 경우 '택시를 타고 가자!'를 출력하고, 1000원 이상일 경우 '버스를 타고 가자!'를 출력하고 1000원 미만일 경우 '집에나 있자..'를 출력하는 코드를 작성하여 '버스를 타고 가자!'를 출력해 주세요."
      ]
    },
    {
      "cell_type": "code",
      "metadata": {
        "id": "vKcXqOi8NrY2",
        "colab": {
          "base_uri": "https://localhost:8080/"
        },
        "outputId": "dd9d8935-37fb-4b86-bb41-d6d1db35c110"
      },
      "source": [
        "# 주어진 변수(money) 직접 수정 불가\n",
        "# 출력 결과 : 버스를 타고 가자!\n",
        "\n",
        "money = 4900\n",
        "\n",
        "if money >= 5000:\n",
        "  print('택시를 타고 가자!')\n",
        "elif 5000 > money and money >= 1000:\n",
        "  print('버스를 타고 가자!')\n",
        "else:\n",
        "  print('집에나 있자..')\n"
      ],
      "execution_count": null,
      "outputs": [
        {
          "output_type": "stream",
          "text": [
            "버스를 타고 가자!\n"
          ],
          "name": "stdout"
        }
      ]
    },
    {
      "cell_type": "markdown",
      "metadata": {
        "id": "91CM57I9NrJA"
      },
      "source": [
        "## **06 조건문(3)**\n",
        "광주 인공지능사관학교 학생 몽룡이는 주말에 춘향이에게 영화를 보러 가자고 하려 한다. 아래 조건 1), 2), 3)을 만족하는 조건문을 작성하고 '춘향아 우리 주말에 영화 보러 갈래?'를 출력해 주세요.\n",
        "\n",
        "1) 몽룡이의 bag 안에 wallet이 있고, wallet 안에 Credit card가 있거나 현금이 20000원 이상 있다면 -> '춘향아 우리 주말에 영화 보러 갈래?'를 출력\n",
        "\n",
        "2) 몽룡이의 bag 안에 wallet이 있고, wallet 안에 Credit card가 없거나 wallet에 현금이 20000원 미만이라면 -> '춘향아 주말에 우리 집에 가서 딥러닝 공부할래?'를 출력\n",
        "\n",
        "3) 몽룡이의 bag 안에 wallet이 없다면 -> '춘향아 주말에 우리 집에 가서 머신러닝 공부할래?'를 출력\n",
        "\n"
      ]
    },
    {
      "cell_type": "code",
      "metadata": {
        "id": "VcITmXOMfmfm",
        "colab": {
          "base_uri": "https://localhost:8080/"
        },
        "outputId": "3c7e025d-4260-4749-8b4f-750804c54e83"
      },
      "source": [
        "# 주어진 변수(bag, wallet) 직접 수정 불가\n",
        "# 출력 결과 : 춘향아 우리 주말에 영화 보러 갈래?\n",
        "\n",
        "\n",
        "wallet = ['Credit card', 7900]\n",
        "mong_ryong_bag = ['KF-94 Mask', 'Book', 'Tooth brush', wallet]\n",
        "\n",
        "if wallet in mong_ryong_bag:\n",
        "  if 'Credit card' in wallet or wallet[1] >= 20000:\n",
        "    print('춘향아 우리 주말에 영화 보러 갈래?')\n",
        "  else:\n",
        "    print('춘향아 주말에 우리 집에 가서 딥러닝 공부할래?')\n",
        "else:\n",
        "  print('춘향아 주말에 우리 집에 가서 머신러닝 공부할래?') \n",
        "\n"
      ],
      "execution_count": null,
      "outputs": [
        {
          "output_type": "stream",
          "text": [
            "춘향아 우리 주말에 영화 보러 갈래?\n"
          ],
          "name": "stdout"
        }
      ]
    },
    {
      "cell_type": "markdown",
      "metadata": {
        "id": "WBePz5B32gG3"
      },
      "source": [
        "## **07 반복문(1)**\n",
        "아래의 1), 2), 3) 상황을 읽고, pass를 지운 후 코드를 작성해 주시고, 출력 결과와 동일한 출력을 해주세요.\n",
        "\n",
        "1) 변사또는 춘향이 집에 찾아가 하루에 한 번씩 '춘향아 주말에 인공지능이 우리의 삶에 미치는 영향에 대한 토론하는 건 어떠니?'라고 물어본다.\n",
        "\n",
        "2) 춘향이는 매일 같이 질문하는 변사또를 '싫어요!!'라고 5번 거절을 한 뒤, 몽룡이와 광주 인공지능사관학교에 입학하러 떠나버린다.\n",
        "\n",
        "3) 변사또는 춘향이가 광주로 떠난 줄 모르고 춘향이 집에 갔더니 춘향의 어머니인 월매가 '춘향이 광주 인공지능사관학교에 입학했네!!'라고 야단을 치며 돌려보냈다.\n"
      ]
    },
    {
      "cell_type": "code",
      "metadata": {
        "id": "T2a967xH5qXN",
        "colab": {
          "base_uri": "https://localhost:8080/"
        },
        "outputId": "11399b9a-8544-461d-dfda-18291295e7b1"
      },
      "source": [
        "# 주어진 변수(byun_question_count) 및 while 변경 불가능\n",
        "# 출력 결과 : 변사또 : 춘향아 주말에 인공지능이 우리의 삶에 미치는 영향에 대한 토론하는 건 어떠니?\n",
        "#           춘향이 : 싫어요!!\n",
        "#           변사또 : 춘향아 주말에 인공지능이 우리의 삶에 미치는 영향에 대한 토론하는 건 어떠니?\n",
        "#           춘향이 : 싫어요!!\n",
        "#           변사또 : 춘향아 주말에 인공지능이 우리의 삶에 미치는 영향에 대한 토론하는 건 어떠니?\n",
        "#           춘향이 : 싫어요!!\n",
        "#           변사또 : 춘향아 주말에 인공지능이 우리의 삶에 미치는 영향에 대한 토론하는 건 어떠니?\n",
        "#           춘향이 : 싫어요!!\n",
        "#           변사또 : 춘향아 주말에 인공지능이 우리의 삶에 미치는 영향에 대한 토론하는 건 어떠니?\n",
        "#           춘향이 : 싫어요!!\n",
        "#           월매 : 춘향이 광주 인공지능사관학교에 입학했네!!\n",
        "\n",
        "byun_question_count = 0\n",
        "\n",
        "while True:\n",
        "  byun_question_count = byun_question_count + 1\n",
        "  print('변사또 : 춘향아 주말에 인공지능이 우리의 삶에 미치는 영향에 대한 토론하는 건 어떠니?')\n",
        "  print('춘향이 : 싫어요!!')\n",
        "  if byun_question_count == 5:\n",
        "    print('월매 : 춘향이 광주 인공지능사관학교에 입학했네!!')\n",
        "    break"
      ],
      "execution_count": null,
      "outputs": [
        {
          "output_type": "stream",
          "text": [
            "변사또 : 춘향아 주말에 인공지능이 우리의 삶에 미치는 영향에 대한 토론하는 건 어떠니?\n",
            "춘향이 : 싫어요!!\n",
            "변사또 : 춘향아 주말에 인공지능이 우리의 삶에 미치는 영향에 대한 토론하는 건 어떠니?\n",
            "춘향이 : 싫어요!!\n",
            "변사또 : 춘향아 주말에 인공지능이 우리의 삶에 미치는 영향에 대한 토론하는 건 어떠니?\n",
            "춘향이 : 싫어요!!\n",
            "변사또 : 춘향아 주말에 인공지능이 우리의 삶에 미치는 영향에 대한 토론하는 건 어떠니?\n",
            "춘향이 : 싫어요!!\n",
            "변사또 : 춘향아 주말에 인공지능이 우리의 삶에 미치는 영향에 대한 토론하는 건 어떠니?\n",
            "춘향이 : 싫어요!!\n",
            "월매 : 춘향이 광주 인공지능사관학교에 입학했네!!\n"
          ],
          "name": "stdout"
        }
      ]
    },
    {
      "cell_type": "markdown",
      "metadata": {
        "id": "eOiJdtcgDSzg"
      },
      "source": [
        "## **08 반복문(2)**\n",
        "list_ai에 담겨있는 수들을 10을 곱한 뒤 result 리스트에 새롭게 담으려 한다. 반복문을 활용해 코드를 작성해 주시고, 출력 결과와 동일한 출력을 해주세요."
      ]
    },
    {
      "cell_type": "code",
      "metadata": {
        "id": "ebA2vWnT2gec",
        "colab": {
          "base_uri": "https://localhost:8080/"
        },
        "outputId": "c5126312-2772-461d-d751-73188e927042"
      },
      "source": [
        "# 주어진 변수(list_ai, result) 및 print(result)문 변경 불가\n",
        "# 출력 결과 : [80, 90, 40, 50, 60, 70, 10, 30]\n",
        "list_ai = [8,9,4,5,6,7,1,3]\n",
        "result = []\n",
        "\n",
        "for i in list_ai:\n",
        "  result.append(i * 10)\n",
        "\n",
        "print(result)"
      ],
      "execution_count": null,
      "outputs": [
        {
          "output_type": "stream",
          "text": [
            "[80, 90, 40, 50, 60, 70, 10, 30]\n"
          ],
          "name": "stdout"
        }
      ]
    },
    {
      "cell_type": "markdown",
      "metadata": {
        "id": "0qk_QwdUM5uG"
      },
      "source": [
        "## **09 반복문과 조건문 활용(1)**\n",
        "광주 인공지능사관학교에 합격하기 위해선 시험 점수가 70점 이상이 되어야 한다. 시험 점수가 70점 이상일 경우 '@번 학생 축하합니다!! 광주 인공지능사관학교에 최종 합격하셨습니다'를 출력하고, 70점 미만일 경우 '@번 학생 아쉽지만 다음 기회에 다시 지원해 주시길 바랍니다.'를 출력하는 코드를 작성해 주시고, 출력 결과와 동일한 출력을 해주세요."
      ]
    },
    {
      "cell_type": "code",
      "metadata": {
        "id": "2MX82senMjFt",
        "colab": {
          "base_uri": "https://localhost:8080/"
        },
        "outputId": "4dc7f24c-e4fe-46af-90c1-dedb7600796f"
      },
      "source": [
        "# 주어진 변수(scores, student_index) 변경 불가\n",
        "# 출력결과 : 1번 학생 축하합니다!! 광주 인공지능사관학교에 최종 합격하셨습니다.\n",
        "#          2번 학생 아쉽지만 다음 기수에 다시 지원해 주시길 바랍니다.\n",
        "#          3번 학생 아쉽지만 다음 기수에 다시 지원해 주시길 바랍니다.\n",
        "#          4번 학생 축하합니다!! 광주 인공지능사관학교에 최종 합격하셨습니다.\n",
        "#          5번 학생 축하합니다!! 광주 인공지능사관학교에 최종 합격하셨습니다.\n",
        "#          6번 학생 축하합니다!! 광주 인공지능사관학교에 최종 합격하셨습니다.\n",
        "#          7번 학생 아쉽지만 다음 기수에 다시 지원해 주시길 바랍니다.\n",
        "#          8번 학생 아쉽지만 다음 기수에 다시 지원해 주시길 바랍니다.\n",
        "#          9번 학생 축하합니다!! 광주 인공지능사관학교에 최종 합격하셨습니다.\n",
        "\n",
        "scores = [80, 65, 43, 78, 88, 100, 44, 55, 75]\n",
        "student_index = 0\n",
        "\n",
        "for i in scores:\n",
        "  student_index = student_index + 1\n",
        "  if i >= 70:\n",
        "    print(student_index, '번 학생 축하합니다!! 광주 인공지능사관학교에 최종 합격하셨습니다', sep = '')\n",
        "  else:\n",
        "    print(student_index, '번 학생 아쉽지만 다음 기수에 다시 지원해 주시길 바랍니다.', sep = '')"
      ],
      "execution_count": null,
      "outputs": [
        {
          "output_type": "stream",
          "text": [
            "1번 학생 축하합니다!! 광주 인공지능사관학교에 최종 합격하셨습니다\n",
            "2번 학생 아쉽지만 다음 기수에 다시 지원해 주시길 바랍니다.\n",
            "3번 학생 아쉽지만 다음 기수에 다시 지원해 주시길 바랍니다.\n",
            "4번 학생 축하합니다!! 광주 인공지능사관학교에 최종 합격하셨습니다\n",
            "5번 학생 축하합니다!! 광주 인공지능사관학교에 최종 합격하셨습니다\n",
            "6번 학생 축하합니다!! 광주 인공지능사관학교에 최종 합격하셨습니다\n",
            "7번 학생 아쉽지만 다음 기수에 다시 지원해 주시길 바랍니다.\n",
            "8번 학생 아쉽지만 다음 기수에 다시 지원해 주시길 바랍니다.\n",
            "9번 학생 축하합니다!! 광주 인공지능사관학교에 최종 합격하셨습니다\n"
          ],
          "name": "stdout"
        }
      ]
    },
    {
      "cell_type": "markdown",
      "metadata": {
        "id": "exBzhesTRB5b"
      },
      "source": [
        "## **10 반복문과 조건문 활용(2)**\n",
        "아래 scores는 광주 인공지능사관학교 학생들의 과제 평가 점수를 리스트에 담아 놓은 것이다. 이때 90점 이상의 점수를 맞은 학생들의 평균과 학생 수, 60점 미만의 점수를 맞은 학생들의 평균과 학생 수를 구하는 코드를 작성한 후 출력 결과와 동일한 출력을 해주세요."
      ]
    },
    {
      "cell_type": "code",
      "metadata": {
        "id": "EoSIVGOxRCPt",
        "colab": {
          "base_uri": "https://localhost:8080/"
        },
        "outputId": "61d08bf7-fa08-4060-cc2e-191efcb98560"
      },
      "source": [
        "# 주어진 변수(scores) 직접 수정 불가\n",
        "# 출력 결과 : 90점 이상 학생들의 평균 점수 : 97.2, 90점 이상 학생 수 : 5명\n",
        "#           60점 미만 학생들의 평균 점수 : 44.0, 60점 미만 학생 수 : 3명\n",
        "\n",
        "scores = [66,54,89,92,98,100,33,45,97,99,67,87]\n",
        "\n",
        "up_90score = 0\n",
        "up_90people = 0\n",
        "down_60score = 0\n",
        "down_60people = 0\n",
        "for i in scores:\n",
        "  if i >=90:\n",
        "    up_90score = up_90score + i\n",
        "    up_90people = up_90people + 1\n",
        "  elif 60 > i:\n",
        "    down_60score = down_60score + i\n",
        "    down_60people = down_60people + 1\n",
        "print('90점 이상 학생들의 평균 점수 :', (up_90score / up_90people), '90점 이상 학생 수 :', up_90people)\n",
        "print('60점 미만 학생들의 평균 점수 :', (down_60score / down_60people), '60점 미만 학생 수 :', down_60people)\n"
      ],
      "execution_count": null,
      "outputs": [
        {
          "output_type": "stream",
          "text": [
            "90점 이상 학생들의 평균 점수 : 97.2 90점 이상 학생 수 : 5\n",
            "60점 미만 학생들의 평균 점수 : 44.0 60점 미만 학생 수 : 3\n"
          ],
          "name": "stdout"
        }
      ]
    },
    {
      "cell_type": "markdown",
      "metadata": {
        "id": "QkH7RtgFibME"
      },
      "source": [
        "## **11 반복문과 조건문 활용(3)**\n",
        "아래의 ai_classes 안에 있는 학생들 중 30세 이상인 학생들을 students_30s에 담는 코드를 작성한 후 출력 결과와 동일한 출력을 해주세요."
      ]
    },
    {
      "cell_type": "code",
      "metadata": {
        "id": "papN83WDibvM",
        "colab": {
          "base_uri": "https://localhost:8080/"
        },
        "outputId": "9348734c-a2a1-488c-82a3-32eb549e7e71"
      },
      "source": [
        "# 주어진 변수(ai_classes, students_30s) 및 print(students_30s) 직접 수정 불가\n",
        "# 출력 결과 : ['세종대왕', '신사임당', '왕건', '하정우']\n",
        "\n",
        "ai_classes = {\n",
        "    'class01' : [\n",
        "               {'name' : '홍길동', 'age' : 24},\n",
        "               {'name' : '세종대왕', 'age' : 34},\n",
        "               {'name' : '신사임당', 'age' : 37},\n",
        "               {'name' : '이순신', 'age' : 19},\n",
        "               {'name' : '왕건', 'age' : 31}\n",
        "    ],\n",
        "    'class02' : [\n",
        "                 {'name' : '하정우', 'age' : 34},\n",
        "                 {'name' : '이병헌', 'age' : 19},\n",
        "                 {'name' : '강동원', 'age' : 21},\n",
        "                 {'name' : '이민정', 'age' : 22},\n",
        "                 {'name' : '한효주', 'age' : 24}\n",
        "    ]\n",
        "}\n",
        "\n",
        "students_30s = []\n",
        "\n",
        "for i in ai_classes:\n",
        "  for j in ai_classes.get(i):\n",
        "    if j.get('age') >= 30:\n",
        "      students_30s.append(j.get('name'))\n",
        "\n",
        "print(students_30s)"
      ],
      "execution_count": null,
      "outputs": [
        {
          "output_type": "stream",
          "text": [
            "['세종대왕', '신사임당', '왕건', '하정우']\n"
          ],
          "name": "stdout"
        }
      ]
    }
  ]
}