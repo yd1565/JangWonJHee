{
  "nbformat": 4,
  "nbformat_minor": 0,
  "metadata": {
    "colab": {
      "name": "광주인공지능_사관학교_1주차_과제.ipynb",
      "provenance": [],
      "include_colab_link": true
    },
    "kernelspec": {
      "name": "python3",
      "display_name": "Python 3"
    }
  },
  "cells": [
    {
      "cell_type": "markdown",
      "metadata": {
        "id": "view-in-github",
        "colab_type": "text"
      },
      "source": [
        "<a href=\"https://colab.research.google.com/github/yd1565/JangWonJHee/blob/master/%EA%B4%91%EC%A3%BC%EC%9D%B8%EA%B3%B5%EC%A7%80%EB%8A%A5_%EC%82%AC%EA%B4%80%ED%95%99%EA%B5%90_1%EC%A3%BC%EC%B0%A8_%EA%B3%BC%EC%A0%9C.ipynb\" target=\"_parent\"><img src=\"https://colab.research.google.com/assets/colab-badge.svg\" alt=\"Open In Colab\"/></a>"
      ]
    },
    {
      "cell_type": "markdown",
      "metadata": {
        "id": "FfcxSsy6Clk0",
        "colab_type": "text"
      },
      "source": [
        "#광주인공지능 사관학교 1주차 과제-4가지 분야의 인공지능 제품 및 서비스"
      ]
    },
    {
      "cell_type": "markdown",
      "metadata": {
        "id": "inQKs9VXDR6Y",
        "colab_type": "text"
      },
      "source": [
        "###1.언어 인공지능\n",
        "\n",
        " 언어 인공지능에서 가장 먼저 나오는 것은 바로 번역이다. 번역기 인공지능 언어분야에서 각광 받는 이유는 사투리 때문이다. 각 나라마다 사투리로 인한 다른 해석이 나와서 답답하게 해석되는 것을 인공지능의 머신러닝을 이용하여 그 단점을 개선하는 것이다. 현재 네이버에서 운영중인 번역기 파파고(papago)는 기본틀을 프로그래머들이 짜놓고 거기에 사용자들 중에서 몇몇 사람들을 뽑아서 트레이닝을 부탁하는 트레이너 역할을 줘서 인공지능을 업그레이드 하는 작업을 실행 중이다."
      ]
    },
    {
      "cell_type": "markdown",
      "metadata": {
        "id": "FZf6YlptDVXe",
        "colab_type": "text"
      },
      "source": [
        "###2.음성 인공지능\n",
        "\n",
        "음성 인공지능에서 소개할 분야는 성우이다. 텍스트를 음성으로 변환하는 TTS(Text to Spech)를 이용하여 다큐멘터리, 영상 제작, 오디오북 등 여러분야에서 활용되고 있다. 타입캐스트(typecast)라는 성우프로그램은 여러 목소리를 미리 녹음해 놓고 사람들이 원하는 대본을 입력하면 인공지능이 그 목소리에 알맞게 재생시켜 준다."
      ]
    },
    {
      "cell_type": "markdown",
      "metadata": {
        "id": "y5T461WZDVi8",
        "colab_type": "text"
      },
      "source": [
        "###3.이미지 인공지능\n",
        "\n",
        "이미지 인공지능에서 소개할 분야는 인식이다. 흔히 보안 장치로 사용하는게 지문인식, 홍채인식, 얼굴인식 이 3개를 많이 기억하는데, 이 3가지 모두 이미지 인공지능을 사용하여 인식하는 것이다. 사람들의 지문, 홍채, 얼굴을 기억하여 그것을 주요 구성 요소 분석(PCA)를 활용하여 데이터베이스와 일치시키는 기능 매핑 등을 이용하여 사용된다. 스마트폰의 인식 기능이 모두 여기에 해당된다."
      ]
    },
    {
      "cell_type": "markdown",
      "metadata": {
        "id": "6qCEtIZjDVtF",
        "colab_type": "text"
      },
      "source": [
        "###4.자율주행 인공지능\n",
        "\n",
        "자율주행 인공지능은 말 그대로 자율주행 인공지능이다. 자동차가 스스로 주행하려면 인지, 판단, 제어 등 3가지 기능이 필요하는데 위의 3가지 언어, 음성, 이미지를 활용하면 자율주행 자동차를 만들수 있다. 지금까지 자율주행 인공지능은 데이터 처리 부족등의 이유로 발전이 미비했지만 최근 나오는 여러 연구 결과만 봐도 딥러닝이 각각의 성능을 비약적으로 향상시킬 수 있단 사실을 알 수 있다.목표로 하고 있다. 현재 삼성에서는 자율주행 자동차를 딥러닝을 활용하여 사용자의 기호, 감정 등에 맞게 자율주행이 가능하게끔까지 실험하고 있다."
      ]
    }
  ]
}