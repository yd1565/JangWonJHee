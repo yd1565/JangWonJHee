{
  "nbformat": 4,
  "nbformat_minor": 0,
  "metadata": {
    "colab": {
      "name": "광주_인공지능_사관학교_4주차_과제.ipynb",
      "provenance": [],
      "collapsed_sections": [],
      "include_colab_link": true
    },
    "kernelspec": {
      "name": "python3",
      "display_name": "Python 3"
    }
  },
  "cells": [
    {
      "cell_type": "markdown",
      "metadata": {
        "id": "view-in-github",
        "colab_type": "text"
      },
      "source": [
        "<a href=\"https://colab.research.google.com/github/yd1565/JangWonJHee/blob/master/%EA%B4%91%EC%A3%BC_%EC%9D%B8%EA%B3%B5%EC%A7%80%EB%8A%A5_%EC%82%AC%EA%B4%80%ED%95%99%EA%B5%90_4%EC%A3%BC%EC%B0%A8_%EA%B3%BC%EC%A0%9C.ipynb\" target=\"_parent\"><img src=\"https://colab.research.google.com/assets/colab-badge.svg\" alt=\"Open In Colab\"/></a>"
      ]
    },
    {
      "cell_type": "markdown",
      "metadata": {
        "id": "wxkL6PjwsI6L",
        "colab_type": "text"
      },
      "source": [
        "# 4주차 과제\n",
        "- 용어 정리\n",
        "- 딥러닝 강의 클론 코딩\n",
        "- 딥러닝 순전파 & 역전파 계산"
      ]
    },
    {
      "cell_type": "markdown",
      "metadata": {
        "id": "ixEtDe6_uGgI",
        "colab_type": "text"
      },
      "source": [
        "## 1. 용어 정리\n",
        "\n",
        "다음 제시된 단어의 정의(설명)를 정리하여 작성 하세요.\n",
        "\n",
        "* 2문장 이상 작성 해 주세요. \n",
        "* 주제(단어)와 크게 벗어나지만 않는다면 정답처리 됩니다.\n",
        "* 강의 뿐 아니라 기타 레퍼런스를 참고하여 작성하셔도 됩니다. (기타 레퍼런스를 참고하신 경우, 해당 레퍼런스를 정리하여 하단에 작성해 주세요.)\n"
      ]
    },
    {
      "cell_type": "markdown",
      "metadata": {
        "id": "0lfwat8eurKZ",
        "colab_type": "text"
      },
      "source": [
        "__(예시)__\n",
        "### 심층 신경망\n",
        ": 입력층과 출력층 사이에 여러 개의 은닉층들로 이뤄진 인공신경망이다. 심층 신경망은 일반적으로 인공신경망과 마찬가지로 복잡한 비선형 관계들을 모델링 할 수 있다. 신층신경망의 목적은 분류 및 수치예측을 하기 위함이고 이미지 트레이닝이나 문자인식과 같은 분야에서 매우 유용하게 쓰이고 있다."
      ]
    },
    {
      "cell_type": "markdown",
      "metadata": {
        "id": "Y8YJNKG_v65A",
        "colab_type": "text"
      },
      "source": [
        "### MCP 뉴런\n",
        ":MCP 뉴런은 우선 수상돌기에서 복수의 화학적 신호를 받아 세포체를 통해 통합해 전기 신호로 변경한다. 이후 전기신호가 임계치까지 누적된다면 축색돌기를 통해 다시 화학신호로 변경해 내보내는 구조를 갖고 있다. \n",
        "\n",
        "### 퍼셉트론\n",
        ":퍼셉트론은 다수의 신호(Input)을 입력받아서 하나의 신호(Output)을 출력한다. 이는 뉴런이 전기신호를 내보내 정보를 전달하는 것과 비슷해 보인다. 그리고 뉴런의 수상돌기처럼 신호를 전달하는 역할을 퍼셉트론에서는 가중치(weight)가 그 역할을 한다.\n",
        "\n",
        "### 역전파\n",
        ":역전파는 출력값과 지도 데이터 사이에 생기는 오차를 이용해 출력층에서 입력층 쪽으로 가중치를 조정해 가는 방법을 말한다. 다른 말로 역전파 미분이라고도 불리기도 한다.\n",
        "\n",
        "### 강화학습\n",
        ":강화학습이란 순차적인 행동들을 알아가는 방법(Markov Decision Process)이다. 에이전트가 환경에 따라 행동을 결정하여 보상을 얻는 것을 반복해 최고의 보상을 받는 방법을 찾는 머신러닝 기법이다.\n",
        "\n",
        "### 과적합\n",
        ":과적합은 머신러닝에서 학습 데이터를 과하게 학습하는 것을 뜻한다. 대부분의 학습 데이터는 실제 데이터의 부분 집합이므로 학습 데이터에 대해서는 오차가 감소하지만 실제 데이타에 대해서는 오차가 증가할 수 있게 된다.\n",
        "\n",
        "### 차원의 저주\n",
        ": 차원의 저주는 샘플이 적음에도 불구하고 용량이 큰 경우, 즉 차원이 많은 경우에 데이터에서 모델을 학습할 때 차원이 커질수록 학습이 어려워지고 더 많은 데이터를 필요로 하는 것을 말한다. 일반적으로 차원이 커질수록 결과는 정확해지지만 필요한 데이터랑은 기하급수적으로 증가하기 때문에 계산이 복잡해진다.\n"
      ]
    },
    {
      "cell_type": "markdown",
      "metadata": {
        "id": "d-zfFXLCy6jD",
        "colab_type": "text"
      },
      "source": [
        "## 2. 딥러닝 강의 클론 코딩\n",
        "\n",
        "####__퍼셉트론 구조 구현하기__ \n",
        "딥러닝 강의(__딥러닝 원리[1] 3:15 ~ 5:15 부분__)를 보고 코드를 따라 치며 출력 결과를 만드세요.\n",
        " \n",
        "\n",
        "* 하나의 코드셀에 해당 코드를 한번에 다 적어서 실행해주세요 (__그렇게 하지 않을 경우, 아래 이미지와 같은 출력값이 나오지 않을 수 있습니다__)\n",
        "\n",
        "*__주의!__ 실제로 코딩해서 출력해보면 강의에 나온 출력 결과와 다르게 나옵니다!!\n"
      ]
    },
    {
      "cell_type": "markdown",
      "metadata": {
        "id": "wcc5mzI9oZ7r",
        "colab_type": "text"
      },
      "source": [
        "![대체 텍스트](https://www.notion.so/image/https%3A%2F%2Fs3-us-west-2.amazonaws.com%2Fsecure.notion-static.com%2F0cceeed0-0235-4b0f-af88-0b8c377d5b4b%2F_2020-06-09__9.35.23.png?table=block&id=88fd8912-9356-49a4-9fda-a1a63fe96ea9&width=2870&cache=v2)"
      ]
    },
    {
      "cell_type": "code",
      "metadata": {
        "id": "GKQn4etlsMaF",
        "colab_type": "code",
        "colab": {
          "base_uri": "https://localhost:8080/",
          "height": 36
        },
        "outputId": "599c8b61-f901-442f-ea72-f89594ff9a26"
      },
      "source": [
        "import tensorflow as tf\n",
        "tf.compat.v1.set_random_seed(2020)\n",
        "x = 1\n",
        "y = 0\n",
        "w = tf.random.normal([1], 0, 1)\n",
        "\n",
        "import math\n",
        "def sigmoid(x):\n",
        "  return 1/(1 + math.exp(-x))\n",
        "\n",
        "output = sigmoid(x * w )\n",
        "print(output)"
      ],
      "execution_count": null,
      "outputs": [
        {
          "output_type": "stream",
          "text": [
            "0.47477188589261\n"
          ],
          "name": "stdout"
        }
      ]
    },
    {
      "cell_type": "code",
      "metadata": {
        "id": "g7Tl1EOTsR17",
        "colab_type": "code",
        "colab": {
          "base_uri": "https://localhost:8080/",
          "height": 204
        },
        "outputId": "26b0ee1b-c35b-4ec7-82f9-1bc263e856ac"
      },
      "source": [
        "for i in range(1000):\n",
        "  output = sigmoid(x * w )\n",
        "  error = y - output\n",
        "  w = w + x * 0.1 * error\n",
        "\n",
        "  if i % 100 == 99:\n",
        "    print('학습 횟수:',i, 'Error:',error, '예측결과:', output)"
      ],
      "execution_count": null,
      "outputs": [
        {
          "output_type": "stream",
          "text": [
            "학습 횟수: 99 Error: -0.009290650650795663 예측결과: 0.009290650650795663\n",
            "학습 횟수: 199 Error: -0.00850696629084898 예측결과: 0.00850696629084898\n",
            "학습 횟수: 299 Error: -0.007844784313476764 예측결과: 0.007844784313476764\n",
            "학습 횟수: 399 Error: -0.0072779413468583 예측결과: 0.0072779413468583\n",
            "학습 횟수: 499 Error: -0.006787263310256976 예측결과: 0.006787263310256976\n",
            "학습 횟수: 599 Error: -0.00635839889739853 예측결과: 0.00635839889739853\n",
            "학습 횟수: 699 Error: -0.0059803696535159975 예측결과: 0.0059803696535159975\n",
            "학습 횟수: 799 Error: -0.005644669868066971 예측결과: 0.005644669868066971\n",
            "학습 횟수: 899 Error: -0.005344563787854691 예측결과: 0.005344563787854691\n",
            "학습 횟수: 999 Error: -0.005074684686150367 예측결과: 0.005074684686150367\n"
          ],
          "name": "stdout"
        }
      ]
    },
    {
      "cell_type": "markdown",
      "metadata": {
        "id": "kr0HVRk8fOom",
        "colab_type": "text"
      },
      "source": [
        "## 3. 딥러닝 순전파 & 역전파 계산\n",
        "\n",
        "딥러닝 강의(__딥러닝 원리[2] 0:55 ~ 4:32 부분__)에 나오는 순전파 & 역전파 계산에 대한 문제 입니다.\n",
        "\n",
        "해당 영상과 다음 이미지를 참고하여 다음 2가지 물음에 답하세요.\n",
        "\n",
        "\n",
        "(1) 학습률이 0.2 일 경우 출력층의 노드값\n",
        "\n",
        "(2) 학습률이 0.1과 0.2 중 기대출력값이 지도데이터 \"3\"과 더 가까운 학습률은?"
      ]
    },
    {
      "cell_type": "markdown",
      "metadata": {
        "id": "CpwPFWhOUzww",
        "colab_type": "text"
      },
      "source": [
        "![대체 텍스트](https://www.notion.so/image/https%3A%2F%2Fs3-us-west-2.amazonaws.com%2Fsecure.notion-static.com%2Ff54dfd45-92ec-44ae-9616-6949d2484a45%2F_2020-06-10__5.22.03.png?table=block&id=ee05da89-3ceb-4ad9-a2d3-c9f68d24d1d9&width=3580&cache=v2)"
      ]
    },
    {
      "cell_type": "markdown",
      "metadata": {
        "id": "B2OVY7w5U3CI",
        "colab_type": "text"
      },
      "source": [
        "## (1) 학습률이 0.2 일 경우 출력층의 노드값 : 2\n",
        "## (2) 학습률이 0.1과 0.2 중 기대출력값이 지도데이터 \"3\"과 더 가까운 학습률은? : 학습률 0.2"
      ]
    }
  ]
}